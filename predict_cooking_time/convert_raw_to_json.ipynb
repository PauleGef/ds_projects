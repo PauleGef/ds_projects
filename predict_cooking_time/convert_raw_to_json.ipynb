{
 "cells": [
  {
   "cell_type": "code",
   "execution_count": 1,
   "metadata": {
    "ExecuteTime": {
     "end_time": "2021-08-30T17:52:43.218807Z",
     "start_time": "2021-08-30T17:52:42.782810Z"
    }
   },
   "outputs": [],
   "source": [
    "import json\n",
    "import pandas as pd\n",
    "\n",
    "from pathlib import Path"
   ]
  },
  {
   "cell_type": "code",
   "execution_count": 2,
   "metadata": {
    "ExecuteTime": {
     "end_time": "2021-08-30T17:52:43.234808Z",
     "start_time": "2021-08-30T17:52:43.220807Z"
    }
   },
   "outputs": [],
   "source": [
    "current_folder = Path().resolve()"
   ]
  },
  {
   "cell_type": "code",
   "execution_count": 3,
   "metadata": {
    "ExecuteTime": {
     "end_time": "2021-08-30T17:52:43.250807Z",
     "start_time": "2021-08-30T17:52:43.236808Z"
    }
   },
   "outputs": [],
   "source": [
    "def manipulate_raw_data(l):\n",
    "    recipe_v1 = [x.strip() for x in l]\n",
    "    \n",
    "    # cut top and bottom lines\n",
    "    extract_v1 = recipe_v1[recipe_v1.index('topBanner') + 1:recipe_v1.index(\"You might also like...\")]\n",
    "    \n",
    "    # find check items to extract relevant information\n",
    "    ident = []\n",
    "    check = [\"Preparation Time\",\"Ingredients\",\"Nutritional information\",\"Boxes and ingredients\",\"Instructions\"]\n",
    "    for idx, val in enumerate(extract_v1):\n",
    "        if 'Tag' in val:\n",
    "            continue\n",
    "        for item in check:\n",
    "            if item in val:\n",
    "                ident.append(idx)       \n",
    "\n",
    "    title = \" \".join(extract_v1[5:7])\n",
    "    prep_time = extract_v1[ident[0]].split(\"Time\")[1]\n",
    "    \n",
    "    ingred = extract_v1[ident[1]+3:ident[2]]    \n",
    "    ingredi = [\" \".join(ingred[idx:idx+3:2]) for idx in range(len(ingred)) if len(ingred[idx]) > 0 and ingred[idx][0].isnumeric()]\n",
    "\n",
    "    nutri = extract_v1[ident[2]:ident[3]]\n",
    "\n",
    "    instr = extract_v1[ident[4]:]\n",
    "    instr = \" \".join([line for line in instr if not (line.isnumeric() or line == \"PDF\" or line == \"Instructions\")])\n",
    "    \n",
    "    return title, prep_time, ingredi, nutri, instr"
   ]
  },
  {
   "cell_type": "code",
   "execution_count": 4,
   "metadata": {
    "ExecuteTime": {
     "end_time": "2021-08-30T17:52:43.282807Z",
     "start_time": "2021-08-30T17:52:43.252808Z"
    }
   },
   "outputs": [],
   "source": [
    "recipes = {}\n",
    "\n",
    "path_folder = current_folder.parents[0] / 'data' / 'predict_cooking_time' / 'recipes_raw' \n",
    "\n",
    "# find number of recipes\n",
    "path_glob_generator = Path(path_folder).glob('**/*')\n",
    "files = [x for x in path_glob_generator if x.is_file()]"
   ]
  },
  {
   "cell_type": "code",
   "execution_count": 5,
   "metadata": {
    "ExecuteTime": {
     "end_time": "2021-08-30T17:52:43.426808Z",
     "start_time": "2021-08-30T17:52:43.283808Z"
    }
   },
   "outputs": [],
   "source": [
    "for x in range(1,len(files) + 1):\n",
    "    file = \"\".join([r\"R\", str(x), \".txt\"])\n",
    "\n",
    "    with open(path_folder / file, encoding = 'utf-8') as f:\n",
    "        recipe = f.readlines()\n",
    "\n",
    "    title, prep_time, ingredi, nutri, instr_r = manipulate_raw_data(recipe)\n",
    "\n",
    "    recipe = {}\n",
    "    recipe['prep_time'] = prep_time\n",
    "    recipe['ingredients'] = ingredi\n",
    "    recipe['nutritional'] = nutri\n",
    "    recipe['instructions'] = instr_r\n",
    "    recipe['ordered'] = 1\n",
    "    \n",
    "    if title in recipes.keys():\n",
    "        recipes[title]['ordered'] += 1\n",
    "    else:\n",
    "        recipes[title] = recipe"
   ]
  },
  {
   "cell_type": "code",
   "execution_count": 6,
   "metadata": {
    "ExecuteTime": {
     "end_time": "2021-08-30T17:52:43.442809Z",
     "start_time": "2021-08-30T17:52:43.427808Z"
    }
   },
   "outputs": [],
   "source": [
    "# Serializing json \n",
    "json_object = json.dumps(recipes, indent=4, sort_keys=True)\n",
    "\n",
    "output_path = current_folder.parents[0] / 'data' / 'predict_cooking_time' / 'processed_data' / 'recipes.json'\n",
    "  \n",
    "# Writing to sample.json\n",
    "with open(output_path, \"w\", encoding = 'utf-8') as outfile:\n",
    "    outfile.write(json_object)"
   ]
  },
  {
   "cell_type": "code",
   "execution_count": 7,
   "metadata": {
    "ExecuteTime": {
     "end_time": "2021-08-30T17:52:43.458807Z",
     "start_time": "2021-08-30T17:52:43.444809Z"
    }
   },
   "outputs": [],
   "source": [
    "# JSON file\n",
    "f = open(output_path, \"r\")\n",
    "  \n",
    "# Reading from file\n",
    "data = json.loads(f.read())"
   ]
  }
 ],
 "metadata": {
  "interpreter": {
   "hash": "9d382f3539cbd38332cb67532568dd124e0d28827e8f6bc80edbc6bd38de1a6c"
  },
  "kernelspec": {
   "display_name": "Python 3",
   "language": "python",
   "name": "python3"
  },
  "language_info": {
   "codemirror_mode": {
    "name": "ipython",
    "version": 3
   },
   "file_extension": ".py",
   "mimetype": "text/x-python",
   "name": "python",
   "nbconvert_exporter": "python",
   "pygments_lexer": "ipython3",
   "version": "3.7.6"
  },
  "toc": {
   "base_numbering": 1,
   "nav_menu": {},
   "number_sections": true,
   "sideBar": true,
   "skip_h1_title": false,
   "title_cell": "Table of Contents",
   "title_sidebar": "Contents",
   "toc_cell": false,
   "toc_position": {},
   "toc_section_display": true,
   "toc_window_display": false
  },
  "varInspector": {
   "cols": {
    "lenName": 16,
    "lenType": 16,
    "lenVar": 40
   },
   "kernels_config": {
    "python": {
     "delete_cmd_postfix": "",
     "delete_cmd_prefix": "del ",
     "library": "var_list.py",
     "varRefreshCmd": "print(var_dic_list())"
    },
    "r": {
     "delete_cmd_postfix": ") ",
     "delete_cmd_prefix": "rm(",
     "library": "var_list.r",
     "varRefreshCmd": "cat(var_dic_list()) "
    }
   },
   "types_to_exclude": [
    "module",
    "function",
    "builtin_function_or_method",
    "instance",
    "_Feature"
   ],
   "window_display": false
  }
 },
 "nbformat": 4,
 "nbformat_minor": 4
}
