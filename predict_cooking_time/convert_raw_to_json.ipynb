{
 "cells": [
  {
   "cell_type": "code",
   "execution_count": 1,
   "source": [
    "import json\r\n",
    "import pandas as pd\r\n",
    "\r\n",
    "from typing import Tuple\r\n",
    "from collections import namedtuple\r\n",
    "from pathlib import Path"
   ],
   "outputs": [],
   "metadata": {
    "ExecuteTime": {
     "end_time": "2021-09-04T21:11:14.887138Z",
     "start_time": "2021-09-04T21:11:14.883146Z"
    }
   }
  },
  {
   "cell_type": "code",
   "execution_count": 2,
   "source": [
    "current_folder = Path().resolve()"
   ],
   "outputs": [],
   "metadata": {
    "ExecuteTime": {
     "end_time": "2021-09-04T21:11:15.705181Z",
     "start_time": "2021-09-04T21:11:15.691182Z"
    }
   }
  },
  {
   "cell_type": "code",
   "execution_count": 3,
   "source": [
    "def manipulate_raw_data(single_recipe: list) -> Tuple[str, str, list, list, str]:\r\n",
    "    \"\"\"Extract various information from raw recipe data.\"\"\"\r\n",
    "    recipe = [x.strip() for x in single_recipe]\r\n",
    "    \r\n",
    "    # cut top and bottom lines\r\n",
    "    extract = recipe[recipe.index('topBanner') + 1:recipe.index(\"You might also like...\")]\r\n",
    "    \r\n",
    "    # find check items to extract relevant information\r\n",
    "    identifiers = []\r\n",
    "    check = [\"Preparation Time\",\"Ingredients\",\"Nutritional information\",\"Boxes and ingredients\",\"Instructions\"]\r\n",
    "    for idx, val in enumerate(extract):\r\n",
    "        if \"Tag\" in val:\r\n",
    "            continue\r\n",
    "        for item in check:\r\n",
    "            if item in val:\r\n",
    "                identifiers.append(idx) \r\n",
    "                \r\n",
    "    # find title\r\n",
    "    title = \" \".join(extract[5:7])\r\n",
    "    # identify prep_time\r\n",
    "    prep_time = extract[identifiers[0]].split(\"Time\")[1]\r\n",
    "    # find ingredients\r\n",
    "    ingredients = extract[identifiers[1]+3:identifiers[2]]    \r\n",
    "    ingredients = [\" \".join(ingredients[idx:idx+3:2]) for idx in range(len(ingredients)) \r\n",
    "               if len(ingredients[idx]) > 0 and ingredients[idx][0].isnumeric()]\r\n",
    "    # identify nutritional information\r\n",
    "    nutritients = extract[identifiers[2]:identifiers[3]]\r\n",
    "    # extract instructions\r\n",
    "    instr = extract[identifiers[4]:]\r\n",
    "    instructions = \" \".join([line for line in instr if not (line.isnumeric() or line == \"PDF\" or line == \"Instructions\")])\r\n",
    "\r\n",
    "    recipe_info = namedtuple('recipe_info', ['title', 'prep_time', 'ingredients', 'nutritional', 'instructions'])\r\n",
    "    \r\n",
    "    return recipe_info(title, prep_time, ingredients, nutritients, instructions)"
   ],
   "outputs": [],
   "metadata": {
    "ExecuteTime": {
     "end_time": "2021-09-04T21:11:32.543721Z",
     "start_time": "2021-09-04T21:11:32.524121Z"
    }
   }
  },
  {
   "cell_type": "code",
   "execution_count": 4,
   "source": [
    "recipes = {}\r\n",
    "\r\n",
    "path_folder = current_folder.parents[0] / 'data' / 'predict_cooking_time' / 'recipes_raw' \r\n",
    "\r\n",
    "# find number of recipes\r\n",
    "path_glob_generator = Path(path_folder).glob('**/*')\r\n",
    "files = [x for x in path_glob_generator if x.is_file()]"
   ],
   "outputs": [],
   "metadata": {
    "ExecuteTime": {
     "end_time": "2021-09-04T21:11:33.119168Z",
     "start_time": "2021-09-04T21:11:33.083358Z"
    }
   }
  },
  {
   "cell_type": "code",
   "execution_count": 10,
   "source": [
    "for x in range(1,len(files) + 1):\r\n",
    "    file = \"\".join([r\"R\", str(x), \".txt\"])\r\n",
    "\r\n",
    "    with open(path_folder / file, encoding = 'utf-8') as file:\r\n",
    "        recipe_raw = file.readlines()\r\n",
    "\r\n",
    "    extracted_recip_info = manipulate_raw_data(recipe_raw)\r\n",
    "\r\n",
    "    recipe = {}\r\n",
    "    recipe['prep_time'] = extracted_recip_info.prep_time\r\n",
    "    recipe['ingredients'] = extracted_recip_info.ingredients\r\n",
    "    recipe['nutritional'] = extracted_recip_info.nutritional\r\n",
    "    recipe['instructions'] = extracted_recip_info.instructions\r\n",
    "    \r\n",
    "    recipes[extracted_recip_info.title] = recipe"
   ],
   "outputs": [],
   "metadata": {
    "ExecuteTime": {
     "end_time": "2021-09-04T21:11:33.607450Z",
     "start_time": "2021-09-04T21:11:33.484160Z"
    }
   }
  },
  {
   "cell_type": "code",
   "execution_count": 11,
   "source": [
    "# Serializing json \r\n",
    "json_object = json.dumps(recipes, indent=4, sort_keys=True)\r\n",
    "\r\n",
    "output_path = current_folder.parents[0] / 'data' / 'predict_cooking_time' / 'processed_data' / 'recipes.json'\r\n",
    "  \r\n",
    "# Writing to sample.json\r\n",
    "with open(output_path, \"w\", encoding = 'utf-8') as outfile:\r\n",
    "    outfile.write(json_object)"
   ],
   "outputs": [],
   "metadata": {
    "ExecuteTime": {
     "end_time": "2021-09-04T21:11:35.013637Z",
     "start_time": "2021-09-04T21:11:34.994485Z"
    }
   }
  },
  {
   "cell_type": "code",
   "execution_count": 12,
   "source": [
    "# JSON file\r\n",
    "f = open(output_path)\r\n",
    "  \r\n",
    "# Reading from file\r\n",
    "data = json.loads(f.read())"
   ],
   "outputs": [],
   "metadata": {}
  },
  {
   "cell_type": "code",
   "execution_count": null,
   "source": [],
   "outputs": [],
   "metadata": {}
  }
 ],
 "metadata": {
  "interpreter": {
   "hash": "9d382f3539cbd38332cb67532568dd124e0d28827e8f6bc80edbc6bd38de1a6c"
  },
  "kernelspec": {
   "name": "python3",
   "display_name": "Python 3.7.6 64-bit ('paule': virtualenv)"
  },
  "language_info": {
   "codemirror_mode": {
    "name": "ipython",
    "version": 3
   },
   "file_extension": ".py",
   "mimetype": "text/x-python",
   "name": "python",
   "nbconvert_exporter": "python",
   "pygments_lexer": "ipython3",
   "version": "3.7.6"
  },
  "toc": {
   "base_numbering": 1,
   "nav_menu": {},
   "number_sections": true,
   "sideBar": true,
   "skip_h1_title": false,
   "title_cell": "Table of Contents",
   "title_sidebar": "Contents",
   "toc_cell": false,
   "toc_position": {},
   "toc_section_display": true,
   "toc_window_display": false
  },
  "varInspector": {
   "cols": {
    "lenName": 16,
    "lenType": 16,
    "lenVar": 40
   },
   "kernels_config": {
    "python": {
     "delete_cmd_postfix": "",
     "delete_cmd_prefix": "del ",
     "library": "var_list.py",
     "varRefreshCmd": "print(var_dic_list())"
    },
    "r": {
     "delete_cmd_postfix": ") ",
     "delete_cmd_prefix": "rm(",
     "library": "var_list.r",
     "varRefreshCmd": "cat(var_dic_list()) "
    }
   },
   "types_to_exclude": [
    "module",
    "function",
    "builtin_function_or_method",
    "instance",
    "_Feature"
   ],
   "window_display": false
  }
 },
 "nbformat": 4,
 "nbformat_minor": 4
}