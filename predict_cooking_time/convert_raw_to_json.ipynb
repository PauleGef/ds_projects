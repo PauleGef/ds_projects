{
 "cells": [
  {
   "cell_type": "code",
   "execution_count": 1,
   "metadata": {
    "ExecuteTime": {
     "end_time": "2021-09-04T21:11:14.887138Z",
     "start_time": "2021-09-04T21:11:14.883146Z"
    }
   },
   "outputs": [],
   "source": [
    "import json\n",
    "import pandas as pd\n",
    "\n",
    "from typing import Tuple\n",
    "from collections import namedtuple\n",
    "from pathlib import Path"
   ]
  },
  {
   "cell_type": "code",
   "execution_count": 2,
   "metadata": {
    "ExecuteTime": {
     "end_time": "2021-09-04T21:11:15.705181Z",
     "start_time": "2021-09-04T21:11:15.691182Z"
    }
   },
   "outputs": [],
   "source": [
    "current_folder = Path().resolve()"
   ]
  },
  {
   "cell_type": "code",
   "execution_count": 3,
   "metadata": {
    "ExecuteTime": {
     "end_time": "2021-09-04T21:11:32.543721Z",
     "start_time": "2021-09-04T21:11:32.524121Z"
    }
   },
   "outputs": [],
   "source": [
    "def manipulate_raw_data(single_recipe: list\n",
    "                        ) -> Tuple[str, str, list, list, str]:\n",
    "    \"\"\"Extract various information from raw recipe data.\"\"\"\n",
    "    recipe = [x.strip() for x in single_recipe]\n",
    "\n",
    "    # cut top and bottom lines\n",
    "    extract = recipe[recipe.index('topBanner') +\n",
    "                     1:recipe.index(\"You might also like...\")]\n",
    "\n",
    "    # find check items to extract relevant information\n",
    "    identifiers = []\n",
    "    check = [\n",
    "        \"Preparation Time\", \"Ingredients\", \"Nutritional information\",\n",
    "        \"Boxes and ingredients\", \"Instructions\"\n",
    "    ]\n",
    "    for idx, val in enumerate(extract):\n",
    "        if \"Tag\" in val:\n",
    "            continue\n",
    "        for item in check:\n",
    "            if item in val:\n",
    "                identifiers.append(idx)\n",
    "\n",
    "    # find title\n",
    "    title = \" \".join(extract[5:7])\n",
    "    # identify prep_time\n",
    "    prep_time = extract[identifiers[0]].split(\"Time\")[1]\n",
    "    # find ingredients\n",
    "    ingredients = extract[identifiers[1] + 3:identifiers[2]]\n",
    "    ingredients = [\n",
    "        \" \".join(ingredients[idx:idx + 3:2]) for idx in range(len(ingredients))\n",
    "        if len(ingredients[idx]) > 0 and ingredients[idx][0].isnumeric()\n",
    "    ]\n",
    "    # identify nutritional information\n",
    "    nutritients = extract[identifiers[2]:identifiers[3]]\n",
    "    # extract instructions\n",
    "    instr = extract[identifiers[4]:]\n",
    "    instructions = \" \".join([\n",
    "        line for line in instr\n",
    "        if not (line.isnumeric() or line == \"PDF\" or line == \"Instructions\")\n",
    "    ])\n",
    "\n",
    "    recipe_info = namedtuple(\n",
    "        'recipe_info',\n",
    "        ['title', 'prep_time', 'ingredients', 'nutritional', 'instructions'])\n",
    "\n",
    "    return recipe_info(title, prep_time, ingredients, nutritients,\n",
    "                       instructions)"
   ]
  },
  {
   "cell_type": "code",
   "execution_count": 4,
   "metadata": {
    "ExecuteTime": {
     "end_time": "2021-09-04T21:11:33.119168Z",
     "start_time": "2021-09-04T21:11:33.083358Z"
    }
   },
   "outputs": [],
   "source": [
    "recipes = {}\n",
    "\n",
    "path_folder = current_folder.parents[0] / 'data' / 'predict_cooking_time' / 'recipes_raw' \n",
    "\n",
    "# find number of recipes\n",
    "path_glob_generator = Path(path_folder).glob('**/*')\n",
    "files = [x for x in path_glob_generator if x.is_file()]"
   ]
  },
  {
   "cell_type": "code",
   "execution_count": 10,
   "metadata": {
    "ExecuteTime": {
     "end_time": "2021-09-04T21:11:33.607450Z",
     "start_time": "2021-09-04T21:11:33.484160Z"
    }
   },
   "outputs": [],
   "source": [
    "for x in range(1, len(files) + 1):\n",
    "    file = \"\".join([r\"R\", str(x), \".txt\"])\n",
    "\n",
    "    with open(path_folder / file, encoding='utf-8') as file:\n",
    "        recipe_raw = file.readlines()\n",
    "\n",
    "    extracted_recip_info = manipulate_raw_data(recipe_raw)\n",
    "\n",
    "    recipe = {}\n",
    "    recipe['prep_time'] = extracted_recip_info.prep_time\n",
    "    recipe['ingredients'] = extracted_recip_info.ingredients\n",
    "    recipe['nutritional'] = extracted_recip_info.nutritional\n",
    "    recipe['instructions'] = extracted_recip_info.instructions\n",
    "\n",
    "    recipes[extracted_recip_info.title] = recipe"
   ]
  },
  {
   "cell_type": "code",
   "execution_count": 11,
   "metadata": {
    "ExecuteTime": {
     "end_time": "2021-09-04T21:11:35.013637Z",
     "start_time": "2021-09-04T21:11:34.994485Z"
    }
   },
   "outputs": [],
   "source": [
    "# Serializing json \n",
    "json_object = json.dumps(recipes, indent=4, sort_keys=True)\n",
    "\n",
    "output_path = current_folder.parents[0] / 'data' / 'predict_cooking_time' / 'processed_data' / 'recipes.json'\n",
    "  \n",
    "# Writing to sample.json\n",
    "with open(output_path, \"w\", encoding = 'utf-8') as outfile:\n",
    "    outfile.write(json_object)"
   ]
  },
  {
   "cell_type": "code",
   "execution_count": 12,
   "metadata": {},
   "outputs": [],
   "source": [
    "# JSON file\n",
    "f = open(output_path)\n",
    "  \n",
    "# Reading from file\n",
    "data = json.loads(f.read())"
   ]
  },
  {
   "cell_type": "code",
   "execution_count": null,
   "metadata": {},
   "outputs": [],
   "source": []
  }
 ],
 "metadata": {
  "interpreter": {
   "hash": "9d382f3539cbd38332cb67532568dd124e0d28827e8f6bc80edbc6bd38de1a6c"
  },
  "kernelspec": {
   "display_name": "Python 3",
   "language": "python",
   "name": "python3"
  },
  "language_info": {
   "codemirror_mode": {
    "name": "ipython",
    "version": 3
   },
   "file_extension": ".py",
   "mimetype": "text/x-python",
   "name": "python",
   "nbconvert_exporter": "python",
   "pygments_lexer": "ipython3",
   "version": "3.7.6"
  },
  "toc": {
   "base_numbering": 1,
   "nav_menu": {},
   "number_sections": true,
   "sideBar": true,
   "skip_h1_title": false,
   "title_cell": "Table of Contents",
   "title_sidebar": "Contents",
   "toc_cell": false,
   "toc_position": {},
   "toc_section_display": true,
   "toc_window_display": false
  },
  "varInspector": {
   "cols": {
    "lenName": 16,
    "lenType": 16,
    "lenVar": 40
   },
   "kernels_config": {
    "python": {
     "delete_cmd_postfix": "",
     "delete_cmd_prefix": "del ",
     "library": "var_list.py",
     "varRefreshCmd": "print(var_dic_list())"
    },
    "r": {
     "delete_cmd_postfix": ") ",
     "delete_cmd_prefix": "rm(",
     "library": "var_list.r",
     "varRefreshCmd": "cat(var_dic_list()) "
    }
   },
   "types_to_exclude": [
    "module",
    "function",
    "builtin_function_or_method",
    "instance",
    "_Feature"
   ],
   "window_display": false
  }
 },
 "nbformat": 4,
 "nbformat_minor": 4
}
