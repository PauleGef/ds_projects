{
 "cells": [
  {
   "cell_type": "code",
   "execution_count": 12,
   "metadata": {
    "ExecuteTime": {
     "end_time": "2021-08-31T21:36:32.490479Z",
     "start_time": "2021-08-31T21:36:32.481455Z"
    }
   },
   "outputs": [],
   "source": [
    "import json\n",
    "import pandas as pd\n",
    "\n",
    "from nltk.tokenize import word_tokenize\n",
    "from nltk.corpus import stopwords\n",
    "stop_words = set(stopwords.words('english'))\n",
    "\n",
    "import re\n",
    "from num2words import num2words"
   ]
  },
  {
   "cell_type": "code",
   "execution_count": 17,
   "metadata": {
    "ExecuteTime": {
     "end_time": "2021-08-31T21:37:11.950529Z",
     "start_time": "2021-08-31T21:37:11.925720Z"
    }
   },
   "outputs": [],
   "source": [
    "def nutritional(nutri_list: list) -> pd.DataFrame:\n",
    "    # find index for 'Energy (kJ)'\n",
    "    keywords = nutri_list[nutri_list.index(\"Energy (kJ)\")::2]\n",
    "    # removing units from keyword string from Energy\n",
    "    keyword_updated = [\n",
    "        k if 'Energy' not in k else k.split(\" \")[0] for k in keywords\n",
    "    ]\n",
    "    # removing 'of which '\n",
    "    keyword_updated = [\n",
    "        k.split(\" \")[-1] if len(k.split(\" \")) else k for k in keyword_updated\n",
    "    ]\n",
    "    # take nutritional values\n",
    "    values = nutri_list[nutri_list.index(\"Energy (kJ)\") + 1::2]\n",
    "\n",
    "    nutri = {}\n",
    "    for a, b in zip(keyword_updated, [val.split(\" \") for val in values]):\n",
    "        if b[0] == 'null':\n",
    "            nutri[a + f\" ({b[1]})\"] = float('0')\n",
    "        else:\n",
    "            nutri[a + f\" ({b[1]})\"] = float(b[0])\n",
    "\n",
    "    return pd.DataFrame.from_dict(nutri, orient='index').T\n",
    "\n",
    "\n",
    "def manipulate(s: str) -> str:\n",
    "    tmp = s.split(\" \")\n",
    "    new_s = []\n",
    "    for p in tmp:\n",
    "        if p == '½':\n",
    "            new_s.append('0.5')\n",
    "        elif p in stop_words:\n",
    "            pass\n",
    "        elif p.isnumeric() and tmp.index(p) > 0:\n",
    "            new_s.append(num2words(p))\n",
    "        else:\n",
    "            new_s.append(p)\n",
    "    if 'Water' in new_s:\n",
    "        return \" \".join(new_s[:new_s.index('Water') + 1])\n",
    "    else:\n",
    "        return \" \".join(new_s)\n",
    "\n",
    "\n",
    "def ingredients(l: list) -> list:\n",
    "    tmp_list = [manipulate(item) for item in l]\n",
    "\n",
    "    return [x.split(\" \", 2)[-1] for x in tmp_list]\n",
    "\n",
    "\n",
    "def process_sentence(s: str) -> str:\n",
    "    \"\"\"This function takes a sentence as input and performs the following steps:\n",
    "    1) create tokens using the word_tokenize function from nltk,\n",
    "    2) identify patterns like '6-8' and replace by the higher number\n",
    "    3) filter out special characters,\n",
    "    4) convert numbers to words,\n",
    "    5) filter out stop-words.\"\"\"\n",
    "\n",
    "    tokens = word_tokenize(s)\n",
    "    tokens = [\n",
    "        re.findall(\"\\d-\\d\", token)[0].split(\"-\")[-1]\n",
    "        if len(re.findall(\"\\d-\\d\", token)) != 0 else token for token in tokens\n",
    "    ]\n",
    "    words = [word for word in tokens if word.isalnum()]\n",
    "    words = [\n",
    "        word if not word.isnumeric() else num2words(word) for word in words\n",
    "    ]\n",
    "    clean_sent = \" \".join(\n",
    "        [word.lower() for word in words if not word in stop_words])\n",
    "    return clean_sent\n",
    "\n",
    "\n",
    "def instructions(s: str) -> str:\n",
    "    match = re.findall('\\d+C', s)\n",
    "    if len(match) != 0:\n",
    "        s = s.replace(match[0], \"\".join(match[0].split(\"C\") + [\"°C\"]))\n",
    "    convert_dict = {\n",
    "        \"°C\": \" celsius\",\n",
    "        \"½\": \"0.5\",\n",
    "        \"cm\": \" centimeter\",\n",
    "        \"mins\": \"minutes\",\n",
    "        \"tsp\": \"tablespoon\"\n",
    "    }\n",
    "\n",
    "    for key in convert_dict.keys():\n",
    "        s = s.replace(key, convert_dict[key])\n",
    "    return process_sentence(s)"
   ]
  },
  {
   "cell_type": "code",
   "execution_count": 18,
   "metadata": {
    "ExecuteTime": {
     "end_time": "2021-08-31T21:37:14.974844Z",
     "start_time": "2021-08-31T21:37:14.966804Z"
    }
   },
   "outputs": [],
   "source": [
    "def preprocess(orig_dict: dict) -> dict:\n",
    "    d = orig_dict.copy()\n",
    "    del d['difficulty']\n",
    "    del d['description']\n",
    "\n",
    "    d['prep_time'] = int(d['prep_time'].split(\" \")[0])\n",
    "\n",
    "    # Nutritional info\n",
    "    # keywords start from position 3, every second entry\n",
    "    d['nutritional'] = nutritional(d['nutritional'])\n",
    "\n",
    "    # Ingredients\n",
    "    d['ingredients'] = ingredients(d['ingredients'])\n",
    "\n",
    "    # Instructions\n",
    "    d['instructions'] = instructions(d['instructions'])\n",
    "\n",
    "    return d\n",
    "\n",
    "\n",
    "def correct_instr(x):\n",
    "    final_recip = \" \".join(\n",
    "        [string for string in x.split() if len(string) != 1])\n",
    "    return final_recip"
   ]
  },
  {
   "cell_type": "code",
   "execution_count": 19,
   "metadata": {
    "ExecuteTime": {
     "end_time": "2021-08-31T21:37:15.376282Z",
     "start_time": "2021-08-31T21:37:15.354270Z"
    }
   },
   "outputs": [],
   "source": [
    "# JSON file\n",
    "f = open(\"hello_fresh_recipes.json\", \"r\")\n",
    "  \n",
    "# Reading from file\n",
    "data = json.loads(f.read())"
   ]
  },
  {
   "cell_type": "code",
   "execution_count": 20,
   "metadata": {
    "ExecuteTime": {
     "end_time": "2021-08-31T21:37:17.079304Z",
     "start_time": "2021-08-31T21:37:15.805565Z"
    }
   },
   "outputs": [],
   "source": [
    "final_recipes = pd.DataFrame()\n",
    "for idx, dish in enumerate(data.keys()):\n",
    "    tmp = data[dish].copy()\n",
    "    tmp_processed = preprocess(tmp)\n",
    "    recipe = tmp_processed['nutritional'].copy()\n",
    "    recipe['ingredients'] = [tmp_processed['ingredients']]\n",
    "    recipe['prep_time'] = tmp_processed['prep_time']\n",
    "    recipe['instructions'] = tmp_processed['instructions']\n",
    "    final_recipes = pd.concat([final_recipes, recipe])\n",
    "final_recipes = final_recipes.reset_index(drop=True)"
   ]
  },
  {
   "cell_type": "code",
   "execution_count": 21,
   "metadata": {
    "ExecuteTime": {
     "end_time": "2021-08-31T21:37:19.983190Z",
     "start_time": "2021-08-31T21:37:19.965352Z"
    }
   },
   "outputs": [],
   "source": [
    "final_recipes['instructions'] = final_recipes['instructions'].apply(lambda x: correct_instr(x))"
   ]
  },
  {
   "cell_type": "code",
   "execution_count": 26,
   "metadata": {
    "ExecuteTime": {
     "end_time": "2021-08-31T21:38:25.468443Z",
     "start_time": "2021-08-31T21:38:25.445435Z"
    }
   },
   "outputs": [
    {
     "data": {
      "text/html": [
       "<div>\n",
       "<style scoped>\n",
       "    .dataframe tbody tr th:only-of-type {\n",
       "        vertical-align: middle;\n",
       "    }\n",
       "\n",
       "    .dataframe tbody tr th {\n",
       "        vertical-align: top;\n",
       "    }\n",
       "\n",
       "    .dataframe thead th {\n",
       "        text-align: right;\n",
       "    }\n",
       "</style>\n",
       "<table border=\"1\" class=\"dataframe\">\n",
       "  <thead>\n",
       "    <tr style=\"text-align: right;\">\n",
       "      <th></th>\n",
       "      <th>Energy (kJ)</th>\n",
       "      <th>Energy (kcal)</th>\n",
       "      <th>Fat (g)</th>\n",
       "      <th>saturates (g)</th>\n",
       "      <th>Carbohydrate (g)</th>\n",
       "      <th>sugars (g)</th>\n",
       "      <th>Fiber (g)</th>\n",
       "      <th>Protein (g)</th>\n",
       "      <th>Cholesterol (mg)</th>\n",
       "      <th>Salt (g)</th>\n",
       "      <th>ingredients</th>\n",
       "      <th>prep_time</th>\n",
       "      <th>instructions</th>\n",
       "    </tr>\n",
       "  </thead>\n",
       "  <tbody>\n",
       "    <tr>\n",
       "      <th>0</th>\n",
       "      <td>2702.0</td>\n",
       "      <td>646.0</td>\n",
       "      <td>19.58</td>\n",
       "      <td>7.73</td>\n",
       "      <td>84.78</td>\n",
       "      <td>16.94</td>\n",
       "      <td>3.18</td>\n",
       "      <td>34.15</td>\n",
       "      <td>0.0</td>\n",
       "      <td>2.03</td>\n",
       "      <td>[Basmati Rice, Green Beans, Bell Pepper, Lime,...</td>\n",
       "      <td>30</td>\n",
       "      <td>pour water rice see ingredients amount saucepa...</td>\n",
       "    </tr>\n",
       "    <tr>\n",
       "      <th>1</th>\n",
       "      <td>2475.0</td>\n",
       "      <td>592.0</td>\n",
       "      <td>13.00</td>\n",
       "      <td>3.00</td>\n",
       "      <td>81.00</td>\n",
       "      <td>15.00</td>\n",
       "      <td>1.00</td>\n",
       "      <td>41.00</td>\n",
       "      <td>0.0</td>\n",
       "      <td>2.45</td>\n",
       "      <td>[Basmati Rice, Bok Choy, Salted Peanuts, Coria...</td>\n",
       "      <td>20</td>\n",
       "      <td>cook rice bring large saucepan water boil tabl...</td>\n",
       "    </tr>\n",
       "    <tr>\n",
       "      <th>2</th>\n",
       "      <td>2431.0</td>\n",
       "      <td>581.0</td>\n",
       "      <td>13.00</td>\n",
       "      <td>6.63</td>\n",
       "      <td>92.57</td>\n",
       "      <td>13.75</td>\n",
       "      <td>0.34</td>\n",
       "      <td>22.43</td>\n",
       "      <td>0.0</td>\n",
       "      <td>2.82</td>\n",
       "      <td>[Diced Butternut Squash, Onion, Flat Leaf Pars...</td>\n",
       "      <td>40</td>\n",
       "      <td>preheat oven two hundred celsius put diced but...</td>\n",
       "    </tr>\n",
       "    <tr>\n",
       "      <th>3</th>\n",
       "      <td>2289.0</td>\n",
       "      <td>547.0</td>\n",
       "      <td>18.00</td>\n",
       "      <td>10.00</td>\n",
       "      <td>68.00</td>\n",
       "      <td>6.00</td>\n",
       "      <td>0.00</td>\n",
       "      <td>24.00</td>\n",
       "      <td>0.0</td>\n",
       "      <td>2.19</td>\n",
       "      <td>[Echalion Shallot, Garlic Clove, Chestnut Mush...</td>\n",
       "      <td>30</td>\n",
       "      <td>put large saucepan water tablespoon salt boil ...</td>\n",
       "    </tr>\n",
       "    <tr>\n",
       "      <th>4</th>\n",
       "      <td>2527.0</td>\n",
       "      <td>604.0</td>\n",
       "      <td>17.00</td>\n",
       "      <td>7.00</td>\n",
       "      <td>82.00</td>\n",
       "      <td>12.00</td>\n",
       "      <td>0.00</td>\n",
       "      <td>30.00</td>\n",
       "      <td>0.0</td>\n",
       "      <td>2.41</td>\n",
       "      <td>[Onion, Leek, Garlic Clove, Kale, Bacon Lardon...</td>\n",
       "      <td>30</td>\n",
       "      <td>preheat oven two hundred celsius halve peel ch...</td>\n",
       "    </tr>\n",
       "  </tbody>\n",
       "</table>\n",
       "</div>"
      ],
      "text/plain": [
       "   Energy (kJ)  Energy (kcal)  Fat (g)  saturates (g)  Carbohydrate (g)  \\\n",
       "0       2702.0          646.0    19.58           7.73             84.78   \n",
       "1       2475.0          592.0    13.00           3.00             81.00   \n",
       "2       2431.0          581.0    13.00           6.63             92.57   \n",
       "3       2289.0          547.0    18.00          10.00             68.00   \n",
       "4       2527.0          604.0    17.00           7.00             82.00   \n",
       "\n",
       "   sugars (g)  Fiber (g)  Protein (g)  Cholesterol (mg)  Salt (g)  \\\n",
       "0       16.94       3.18        34.15               0.0      2.03   \n",
       "1       15.00       1.00        41.00               0.0      2.45   \n",
       "2       13.75       0.34        22.43               0.0      2.82   \n",
       "3        6.00       0.00        24.00               0.0      2.19   \n",
       "4       12.00       0.00        30.00               0.0      2.41   \n",
       "\n",
       "                                         ingredients  prep_time  \\\n",
       "0  [Basmati Rice, Green Beans, Bell Pepper, Lime,...         30   \n",
       "1  [Basmati Rice, Bok Choy, Salted Peanuts, Coria...         20   \n",
       "2  [Diced Butternut Squash, Onion, Flat Leaf Pars...         40   \n",
       "3  [Echalion Shallot, Garlic Clove, Chestnut Mush...         30   \n",
       "4  [Onion, Leek, Garlic Clove, Kale, Bacon Lardon...         30   \n",
       "\n",
       "                                        instructions  \n",
       "0  pour water rice see ingredients amount saucepa...  \n",
       "1  cook rice bring large saucepan water boil tabl...  \n",
       "2  preheat oven two hundred celsius put diced but...  \n",
       "3  put large saucepan water tablespoon salt boil ...  \n",
       "4  preheat oven two hundred celsius halve peel ch...  "
      ]
     },
     "execution_count": 26,
     "metadata": {},
     "output_type": "execute_result"
    }
   ],
   "source": [
    "final_recipes.head()"
   ]
  },
  {
   "cell_type": "code",
   "execution_count": 307,
   "metadata": {
    "ExecuteTime": {
     "end_time": "2021-07-24T19:38:54.993177Z",
     "start_time": "2021-07-24T19:38:54.699489Z"
    }
   },
   "outputs": [],
   "source": [
    "final_recipes.to_excel(\"Recipes.xlsx\")"
   ]
  }
 ],
 "metadata": {
  "kernelspec": {
   "display_name": "Python 3",
   "language": "python",
   "name": "python3"
  },
  "language_info": {
   "codemirror_mode": {
    "name": "ipython",
    "version": 3
   },
   "file_extension": ".py",
   "mimetype": "text/x-python",
   "name": "python",
   "nbconvert_exporter": "python",
   "pygments_lexer": "ipython3",
   "version": "3.7.6"
  },
  "toc": {
   "base_numbering": 1,
   "nav_menu": {},
   "number_sections": true,
   "sideBar": true,
   "skip_h1_title": false,
   "title_cell": "Table of Contents",
   "title_sidebar": "Contents",
   "toc_cell": false,
   "toc_position": {},
   "toc_section_display": true,
   "toc_window_display": false
  },
  "varInspector": {
   "cols": {
    "lenName": 16,
    "lenType": 16,
    "lenVar": 40
   },
   "kernels_config": {
    "python": {
     "delete_cmd_postfix": "",
     "delete_cmd_prefix": "del ",
     "library": "var_list.py",
     "varRefreshCmd": "print(var_dic_list())"
    },
    "r": {
     "delete_cmd_postfix": ") ",
     "delete_cmd_prefix": "rm(",
     "library": "var_list.r",
     "varRefreshCmd": "cat(var_dic_list()) "
    }
   },
   "types_to_exclude": [
    "module",
    "function",
    "builtin_function_or_method",
    "instance",
    "_Feature"
   ],
   "window_display": false
  }
 },
 "nbformat": 4,
 "nbformat_minor": 4
}
